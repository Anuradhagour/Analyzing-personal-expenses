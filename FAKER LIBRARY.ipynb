{
 "cells": [
  {
   "cell_type": "code",
   "execution_count": 49,
   "metadata": {},
   "outputs": [
    {
     "name": "stdout",
     "output_type": "stream",
     "text": [
      "Defaulting to user installation because normal site-packages is not writeable\n",
      "Requirement already satisfied: Faker in c:\\users\\lenovo\\appdata\\local\\packages\\pythonsoftwarefoundation.python.3.13_qbz5n2kfra8p0\\localcache\\local-packages\\python313\\site-packages (37.1.0)\n",
      "Requirement already satisfied: tzdata in c:\\users\\lenovo\\appdata\\local\\packages\\pythonsoftwarefoundation.python.3.13_qbz5n2kfra8p0\\localcache\\local-packages\\python313\\site-packages (from Faker) (2025.2)\n",
      "Note: you may need to restart the kernel to use updated packages.\n"
     ]
    },
    {
     "name": "stderr",
     "output_type": "stream",
     "text": [
      "\n",
      "[notice] A new release of pip is available: 24.3.1 -> 25.0.1\n",
      "[notice] To update, run: C:\\Users\\Lenovo\\AppData\\Local\\Microsoft\\WindowsApps\\PythonSoftwareFoundation.Python.3.13_qbz5n2kfra8p0\\python.exe -m pip install --upgrade pip\n"
     ]
    }
   ],
   "source": [
    "pip install Faker"
   ]
  },
  {
   "cell_type": "code",
   "execution_count": 1,
   "metadata": {},
   "outputs": [],
   "source": [
    "from faker import Faker\n",
    "fake=Faker()"
   ]
  },
  {
   "cell_type": "code",
   "execution_count": 2,
   "metadata": {},
   "outputs": [
    {
     "data": {
      "text/plain": [
       "'2001-03-04'"
      ]
     },
     "execution_count": 2,
     "metadata": {},
     "output_type": "execute_result"
    }
   ],
   "source": [
    "fake.date()"
   ]
  },
  {
   "cell_type": "code",
   "execution_count": 3,
   "metadata": {},
   "outputs": [
    {
     "name": "stdout",
     "output_type": "stream",
     "text": [
      "Elizabeth Taylor\n",
      "Eric Martinez\n",
      "Christine Martin\n",
      "Edward Weaver\n",
      "Julia Palmer\n",
      "Thomas Gray\n",
      "Isaac Foster\n",
      "Mrs. Susan Kennedy\n",
      "Karen Montgomery\n",
      "Robert Fletcher\n"
     ]
    }
   ],
   "source": [
    "for i in range(10):\n",
    "    print(fake.name())\n"
   ]
  },
  {
   "cell_type": "code",
   "execution_count": 4,
   "metadata": {},
   "outputs": [
    {
     "name": "stdout",
     "output_type": "stream",
     "text": [
      "Defaulting to user installation because normal site-packages is not writeable\n",
      "Requirement already satisfied: pandas in c:\\users\\lenovo\\appdata\\local\\packages\\pythonsoftwarefoundation.python.3.13_qbz5n2kfra8p0\\localcache\\local-packages\\python313\\site-packages (2.2.3)\n",
      "Requirement already satisfied: numpy>=1.26.0 in c:\\users\\lenovo\\appdata\\local\\packages\\pythonsoftwarefoundation.python.3.13_qbz5n2kfra8p0\\localcache\\local-packages\\python313\\site-packages (from pandas) (2.2.4)\n",
      "Requirement already satisfied: python-dateutil>=2.8.2 in c:\\users\\lenovo\\appdata\\local\\packages\\pythonsoftwarefoundation.python.3.13_qbz5n2kfra8p0\\localcache\\local-packages\\python313\\site-packages (from pandas) (2.9.0.post0)\n",
      "Requirement already satisfied: pytz>=2020.1 in c:\\users\\lenovo\\appdata\\local\\packages\\pythonsoftwarefoundation.python.3.13_qbz5n2kfra8p0\\localcache\\local-packages\\python313\\site-packages (from pandas) (2025.2)\n",
      "Requirement already satisfied: tzdata>=2022.7 in c:\\users\\lenovo\\appdata\\local\\packages\\pythonsoftwarefoundation.python.3.13_qbz5n2kfra8p0\\localcache\\local-packages\\python313\\site-packages (from pandas) (2025.2)\n",
      "Requirement already satisfied: six>=1.5 in c:\\users\\lenovo\\appdata\\local\\packages\\pythonsoftwarefoundation.python.3.13_qbz5n2kfra8p0\\localcache\\local-packages\\python313\\site-packages (from python-dateutil>=2.8.2->pandas) (1.17.0)\n",
      "Note: you may need to restart the kernel to use updated packages.\n"
     ]
    },
    {
     "name": "stderr",
     "output_type": "stream",
     "text": [
      "\n",
      "[notice] A new release of pip is available: 24.3.1 -> 25.0.1\n",
      "[notice] To update, run: C:\\Users\\Lenovo\\AppData\\Local\\Microsoft\\WindowsApps\\PythonSoftwareFoundation.Python.3.13_qbz5n2kfra8p0\\python.exe -m pip install --upgrade pip\n"
     ]
    }
   ],
   "source": [
    "pip install pandas"
   ]
  },
  {
   "cell_type": "code",
   "execution_count": 5,
   "metadata": {},
   "outputs": [],
   "source": [
    "import pandas as pd \n",
    "import numpy as np\n",
    "import random\n",
    "from datetime import datetime"
   ]
  },
  {
   "cell_type": "code",
   "execution_count": 6,
   "metadata": {},
   "outputs": [
    {
     "name": "stdout",
     "output_type": "stream",
     "text": [
      "          Date          Category payment mode  \\\n",
      "0   1992-05-22        stationary       wallet   \n",
      "1   1999-10-27        investment  credit card   \n",
      "2   2010-10-17      subscription  net banking   \n",
      "3   1998-03-09         transport          UPI   \n",
      "4   1983-10-27  sports & fitness  credit card   \n",
      "..         ...               ...          ...   \n",
      "95  1987-06-03        stationary         cash   \n",
      "96  2023-06-30         transport   debit card   \n",
      "97  2023-12-31  sports & fitness         cash   \n",
      "98  1994-04-01        investment   debit card   \n",
      "99  2021-09-30         transport          UPI   \n",
      "\n",
      "                                          Description  Amount  Cashback  \n",
      "0      Husband people just last some lot information.  733.73      13.8  \n",
      "1                  Many understand practice let main.  871.26      12.2  \n",
      "2                                    Move relate low.  433.65      22.9  \n",
      "3   Chair animal positive smile imagine cell anoth...  578.82       4.6  \n",
      "4            Allow himself pick drop question change.  827.64      11.6  \n",
      "..                                                ...     ...       ...  \n",
      "95        Ten civil director study firm imagine home.  870.16      21.6  \n",
      "96                  Organization play concern anyone.  647.22      19.6  \n",
      "97        Sort choose throughout weight minute scene.  326.74       0.6  \n",
      "98                 Recognize resource great suddenly.  905.28       9.4  \n",
      "99                Win describe find production think.  759.04      10.9  \n",
      "\n",
      "[100 rows x 6 columns]\n"
     ]
    }
   ],
   "source": [
    "def gen_exp_data(num=100):\n",
    "    data=[]\n",
    "    for i in range (num):\n",
    "        expense={\n",
    "            \"Date\":fake.date(),\n",
    "            \"Category\":fake.random_element(elements=(\"investment\",\"stationary\",\"subscription\",\"sports & fitness\",\"gym\",\"transport\")),\n",
    "            \"payment mode\":fake.random_element(elements=(\"cash\",\"UPI\",\"wallet\",\"net banking\",\"credit card\",\"debit card\")),\n",
    "            \"Description\":fake.sentence(),\n",
    "            \"Amount\":round(random.uniform(100,1000),2),\n",
    "            \"Cashback\":round(random.uniform(0,30),1)\n",
    "        }\n",
    "        data.append(expense)\n",
    "    return pd.DataFrame(data)\n",
    "df= gen_exp_data(100)\n",
    "print(df)   \n",
    "    "
   ]
  },
  {
   "cell_type": "code",
   "execution_count": 7,
   "metadata": {},
   "outputs": [
    {
     "name": "stdout",
     "output_type": "stream",
     "text": [
      "          Date          Category payment mode  \\\n",
      "0   2024-01-04  sports & fitness       wallet   \n",
      "1   2024-01-21              fees   debit card   \n",
      "2   2024-01-08        stationary  credit card   \n",
      "3   2024-01-25         transport          UPI   \n",
      "4   2024-01-21              fees  credit card   \n",
      "..         ...               ...          ...   \n",
      "95  2024-01-02        stationary         cash   \n",
      "96  2024-01-08      subscription  net banking   \n",
      "97  2024-01-25        stationary         cash   \n",
      "98  2024-01-08        investment          UPI   \n",
      "99  2024-01-08         transport          UPI   \n",
      "\n",
      "                                          Description  Amount  Cashback  \n",
      "0         Election Mr radio enter middle event place.  187.01      17.4  \n",
      "1                                  We eat down fight.  565.60       3.7  \n",
      "2   Door ok pass professional foot resource buildi...  704.25      13.7  \n",
      "3                               Half part coach save.  386.31      10.2  \n",
      "4                                   Half all prepare.  962.85      25.2  \n",
      "..                                                ...     ...       ...  \n",
      "95         Practice half establish by herself memory.  426.12      24.3  \n",
      "96      Environmental health of machine party common.  687.69      28.8  \n",
      "97  Determine enjoy research cut ever girl film st...  477.90      27.7  \n",
      "98              Under travel fall floor history such.  954.88      27.1  \n",
      "99  Indicate political nature result million simpl...  695.42       4.9  \n",
      "\n",
      "[100 rows x 6 columns]\n"
     ]
    }
   ],
   "source": [
    "def gen_exp_data(month , year,num=100):\n",
    "    data=[]\n",
    "    for i in range (num):\n",
    "        day=random.randint(1,28)\n",
    "        date=datetime(year,month,day).strftime('%Y-%m-%d')\n",
    "        expense={\n",
    "            \"Date\":date,\n",
    "            \"Category\":fake.random_element(elements=(\"investment\",\"stationary\",\"subscription\",\"sports & fitness\",\"fees\",\"transport\")),\n",
    "            \"payment mode\":fake.random_element(elements=(\"cash\",\"UPI\",\"wallet\",\"net banking\",\"credit card\",\"debit card\")),\n",
    "            \"Description\":fake.sentence(),\n",
    "            \"Amount\":round(random.uniform(100,1000),2),\n",
    "            \"Cashback\":round(random.uniform(0,30),1)\n",
    "        }\n",
    "        data.append(expense)\n",
    "    return pd.DataFrame(data)\n",
    "jan24= gen_exp_data(1,2024,100)\n",
    "print(jan24)  "
   ]
  },
  {
   "cell_type": "code",
   "execution_count": 8,
   "metadata": {},
   "outputs": [
    {
     "name": "stdout",
     "output_type": "stream",
     "text": [
      "          Date          Category payment mode  \\\n",
      "0   2024-02-06        investment          UPI   \n",
      "1   2024-02-21         transport          UPI   \n",
      "2   2024-02-17      subscription         cash   \n",
      "3   2024-02-27              fees         cash   \n",
      "4   2024-02-14         transport  net banking   \n",
      "..         ...               ...          ...   \n",
      "95  2024-02-21  sports & fitness         cash   \n",
      "96  2024-02-16              fees       wallet   \n",
      "97  2024-02-19  sports & fitness  net banking   \n",
      "98  2024-02-14         transport          UPI   \n",
      "99  2024-02-27  sports & fitness         cash   \n",
      "\n",
      "                                      Description  Amount  Cashback  \n",
      "0                    Speech community get reveal.  276.63      24.7  \n",
      "1          Owner stand music some yard beat sing.  820.83       5.6  \n",
      "2                          Eat leg impact policy.  529.92      18.6  \n",
      "3           Space skill type look doctor similar.  523.38      21.4  \n",
      "4                          Now quality add major.  918.42      27.5  \n",
      "..                                            ...     ...       ...  \n",
      "95  Remember parent case than audience fly blood.  957.11      22.1  \n",
      "96                         Stage next seven deal.  905.89      15.9  \n",
      "97                        Position himself coach.  253.24      28.2  \n",
      "98                    Line high in indicate step.  218.02      23.3  \n",
      "99             Important second near middle than.  725.85       5.7  \n",
      "\n",
      "[100 rows x 6 columns]\n"
     ]
    }
   ],
   "source": [
    "def gen_exp_data(month , year,num=100):\n",
    "    data=[]\n",
    "    for i in range (num):\n",
    "        day=random.randint(1,28)\n",
    "        date=datetime(year,month,day).strftime('%Y-%m-%d')\n",
    "        expense={\n",
    "            \"Date\":date,\n",
    "            \"Category\":fake.random_element(elements=(\"investment\",\"stationary\",\"subscription\",\"sports & fitness\",\"fees\",\"transport\")),\n",
    "            \"payment mode\":fake.random_element(elements=(\"cash\",\"UPI\",\"wallet\",\"net banking\",\"credit card\",\"debit card\")),\n",
    "            \"Description\":fake.sentence(),\n",
    "            \"Amount\":round(random.uniform(100,1000),2),\n",
    "            \"Cashback\":round(random.uniform(0,30),1)\n",
    "        }\n",
    "        data.append(expense)\n",
    "    return pd.DataFrame(data)\n",
    "feb24= gen_exp_data(2,2024,100)\n",
    "print(feb24) "
   ]
  },
  {
   "cell_type": "code",
   "execution_count": 9,
   "metadata": {},
   "outputs": [
    {
     "name": "stdout",
     "output_type": "stream",
     "text": [
      "          Date          Category payment mode  \\\n",
      "0   2024-03-27      subscription  net banking   \n",
      "1   2024-03-10        investment       wallet   \n",
      "2   2024-03-23         transport          UPI   \n",
      "3   2024-03-03        investment       wallet   \n",
      "4   2024-03-05  sports & fitness   debit card   \n",
      "..         ...               ...          ...   \n",
      "95  2024-03-16              fees          UPI   \n",
      "96  2024-03-22      subscription  credit card   \n",
      "97  2024-03-05        stationary         cash   \n",
      "98  2024-03-22        stationary          UPI   \n",
      "99  2024-03-25         transport       wallet   \n",
      "\n",
      "                                   Description  Amount  Cashback  \n",
      "0                     Difficult dark industry.  789.63      20.2  \n",
      "1                          Stand body trouble.  835.91      24.3  \n",
      "2    Instead sit reach hear start until sense.  521.64      11.3  \n",
      "3             Until day measure theory school.  879.99       9.3  \n",
      "4        Administration professor media ready.  794.10      11.3  \n",
      "..                                         ...     ...       ...  \n",
      "95  Bit chair management station under manage.  694.55      17.6  \n",
      "96                      Choose event this Mrs.  988.27      12.5  \n",
      "97          Today production reveal agent six.  794.53      21.0  \n",
      "98                 Mean before coach movement.  821.21      19.5  \n",
      "99                 Ok nor accept will million.  512.92       7.7  \n",
      "\n",
      "[100 rows x 6 columns]\n"
     ]
    }
   ],
   "source": [
    "def gen_exp_data(month , year,num=100):\n",
    "    data=[]\n",
    "    for i in range (num):\n",
    "        day=random.randint(1,28)\n",
    "        date=datetime(year,month,day).strftime('%Y-%m-%d')\n",
    "        expense={\n",
    "            \"Date\":date,\n",
    "            \"Category\":fake.random_element(elements=(\"investment\",\"stationary\",\"subscription\",\"sports & fitness\",\"fees\",\"transport\")),\n",
    "            \"payment mode\":fake.random_element(elements=(\"cash\",\"UPI\",\"wallet\",\"net banking\",\"credit card\",\"debit card\")),\n",
    "            \"Description\":fake.sentence(),\n",
    "            \"Amount\":round(random.uniform(100,1000),2),\n",
    "            \"Cashback\":round(random.uniform(0,30),1)\n",
    "        }\n",
    "        data.append(expense)\n",
    "    return pd.DataFrame(data)\n",
    "march24= gen_exp_data(3,2024,100)\n",
    "print(march24) "
   ]
  },
  {
   "cell_type": "code",
   "execution_count": 10,
   "metadata": {},
   "outputs": [
    {
     "name": "stdout",
     "output_type": "stream",
     "text": [
      "          Date          Category payment mode  \\\n",
      "0   2024-04-09      subscription          UPI   \n",
      "1   2024-04-13  sports & fitness  net banking   \n",
      "2   2024-04-08        stationary       wallet   \n",
      "3   2024-04-01        stationary  credit card   \n",
      "4   2024-04-16  sports & fitness  net banking   \n",
      "..         ...               ...          ...   \n",
      "95  2024-04-21      subscription  net banking   \n",
      "96  2024-04-17        stationary  credit card   \n",
      "97  2024-04-08  sports & fitness       wallet   \n",
      "98  2024-04-08  sports & fitness  net banking   \n",
      "99  2024-04-08        stationary          UPI   \n",
      "\n",
      "                                          Description  Amount  Cashback  \n",
      "0    Animal painting energy form response much water.  225.37      22.9  \n",
      "1                            Billion garden know his.  934.68      29.7  \n",
      "2            Cell possible mind you magazine history.  746.62      21.9  \n",
      "3                 Evening no cultural half far score.  530.85      12.5  \n",
      "4           Order hotel food hair when international.  219.12      17.7  \n",
      "..                                                ...     ...       ...  \n",
      "95          Book risk tonight method size conference.  105.16       7.8  \n",
      "96                   Art before size claim use final.  822.50      17.1  \n",
      "97     Challenge as several one best trial skill not.  632.96      24.2  \n",
      "98               People ready thus south use network.  347.35      23.2  \n",
      "99  Plant camera administration learn suffer somet...  166.35      27.2  \n",
      "\n",
      "[100 rows x 6 columns]\n"
     ]
    }
   ],
   "source": [
    "def gen_exp_data(month , year,num=100):\n",
    "    data=[]\n",
    "    for i in range (num):\n",
    "        day=random.randint(1,28)\n",
    "        date=datetime(year,month,day).strftime('%Y-%m-%d')\n",
    "        expense={\n",
    "            \"Date\":date,\n",
    "            \"Category\":fake.random_element(elements=(\"investment\",\"stationary\",\"subscription\",\"sports & fitness\",\"fees\",\"transport\")),\n",
    "            \"payment mode\":fake.random_element(elements=(\"cash\",\"UPI\",\"wallet\",\"net banking\",\"credit card\",\"debit card\")),\n",
    "            \"Description\":fake.sentence(),\n",
    "            \"Amount\":round(random.uniform(100,1000),2),\n",
    "            \"Cashback\":round(random.uniform(0,30),1)\n",
    "        }\n",
    "        data.append(expense)\n",
    "    return pd.DataFrame(data)\n",
    "april24= gen_exp_data(4,2024,100)\n",
    "print(april24) "
   ]
  },
  {
   "cell_type": "code",
   "execution_count": 11,
   "metadata": {},
   "outputs": [
    {
     "name": "stdout",
     "output_type": "stream",
     "text": [
      "          Date          Category payment mode  \\\n",
      "0   2024-05-07        investment          UPI   \n",
      "1   2024-05-03  sports & fitness  net banking   \n",
      "2   2024-05-01  sports & fitness  net banking   \n",
      "3   2024-05-13        stationary  credit card   \n",
      "4   2024-05-05         transport       wallet   \n",
      "..         ...               ...          ...   \n",
      "95  2024-05-05  sports & fitness  net banking   \n",
      "96  2024-05-15        investment  net banking   \n",
      "97  2024-05-09  sports & fitness       wallet   \n",
      "98  2024-05-25      subscription          UPI   \n",
      "99  2024-05-12         transport          UPI   \n",
      "\n",
      "                                       Description  Amount  Cashback  \n",
      "0                         Product fast under list.  548.16      20.4  \n",
      "1   Mission evening face both answer enough leave.  267.78      26.7  \n",
      "2      Our line strong big but owner owner people.  464.11      13.2  \n",
      "3      Make claim around father specific hospital.  424.36      12.0  \n",
      "4      Difficult international carry account pick.  879.26       0.5  \n",
      "..                                             ...     ...       ...  \n",
      "95       Represent term wear peace floor election.  396.26      22.1  \n",
      "96          Likely power college party third hard.  797.87       5.6  \n",
      "97                      We leg impact hope public.  154.55       3.6  \n",
      "98                         Lead show foreign stay.  181.41      12.6  \n",
      "99                            Inside use car head.  236.20      11.8  \n",
      "\n",
      "[100 rows x 6 columns]\n"
     ]
    }
   ],
   "source": [
    "def gen_exp_data(month , year,num=100):\n",
    "    data=[]\n",
    "    for i in range (num):\n",
    "        day=random.randint(1,28)\n",
    "        date=datetime(year,month,day).strftime('%Y-%m-%d')\n",
    "        expense={\n",
    "            \"Date\":date,\n",
    "            \"Category\":fake.random_element(elements=(\"investment\",\"stationary\",\"subscription\",\"sports & fitness\",\"fees\",\"transport\")),\n",
    "            \"payment mode\":fake.random_element(elements=(\"cash\",\"UPI\",\"wallet\",\"net banking\",\"credit card\",\"debit card\")),\n",
    "            \"Description\":fake.sentence(),\n",
    "            \"Amount\":round(random.uniform(100,1000),2),\n",
    "            \"Cashback\":round(random.uniform(0,30),1)\n",
    "        }\n",
    "        data.append(expense)\n",
    "    return pd.DataFrame(data)\n",
    "may24= gen_exp_data(5,2024,100)\n",
    "print(may24) "
   ]
  },
  {
   "cell_type": "code",
   "execution_count": 12,
   "metadata": {},
   "outputs": [
    {
     "name": "stdout",
     "output_type": "stream",
     "text": [
      "          Date          Category payment mode  \\\n",
      "0   2024-06-18              fees          UPI   \n",
      "1   2024-06-10         transport         cash   \n",
      "2   2024-06-23  sports & fitness   debit card   \n",
      "3   2024-06-02  sports & fitness  credit card   \n",
      "4   2024-06-23        investment          UPI   \n",
      "..         ...               ...          ...   \n",
      "95  2024-06-04              fees         cash   \n",
      "96  2024-06-11      subscription  credit card   \n",
      "97  2024-06-22         transport  credit card   \n",
      "98  2024-06-12        investment          UPI   \n",
      "99  2024-06-23  sports & fitness         cash   \n",
      "\n",
      "                                          Description  Amount  Cashback  \n",
      "0                 Develop ever yard address evidence.  958.07       5.5  \n",
      "1    Suggest detail base summer rest interest within.  838.40      17.2  \n",
      "2                              Often nature data old.  453.25       9.1  \n",
      "3                             Serious wait according.  859.19       9.9  \n",
      "4                        It offer pressure near tell.  562.17      27.1  \n",
      "..                                                ...     ...       ...  \n",
      "95         Republican area lot effect reflect effort.  272.37       2.2  \n",
      "96                    Party us kind leader step away.  337.19       9.6  \n",
      "97                             High field my popular.  540.75      22.8  \n",
      "98             Until clearly must have hospital need.  788.58      15.1  \n",
      "99  Full collection medical quite knowledge care l...  179.83       1.2  \n",
      "\n",
      "[100 rows x 6 columns]\n"
     ]
    }
   ],
   "source": [
    "def gen_exp_data(month , year,num=100):\n",
    "    data=[]\n",
    "    for i in range (num):\n",
    "        day=random.randint(1,28)\n",
    "        date=datetime(year,month,day).strftime('%Y-%m-%d')\n",
    "        expense={\n",
    "            \"Date\":date,\n",
    "            \"Category\":fake.random_element(elements=(\"investment\",\"stationary\",\"subscription\",\"sports & fitness\",\"fees\",\"transport\")),\n",
    "            \"payment mode\":fake.random_element(elements=(\"cash\",\"UPI\",\"wallet\",\"net banking\",\"credit card\",\"debit card\")),\n",
    "            \"Description\":fake.sentence(),\n",
    "            \"Amount\":round(random.uniform(100,1000),2),\n",
    "            \"Cashback\":round(random.uniform(0,30),1)\n",
    "        }\n",
    "        data.append(expense)\n",
    "    return pd.DataFrame(data)\n",
    "june24= gen_exp_data(6,2024,100)\n",
    "print(june24) "
   ]
  },
  {
   "cell_type": "code",
   "execution_count": 13,
   "metadata": {},
   "outputs": [
    {
     "name": "stdout",
     "output_type": "stream",
     "text": [
      "          Date          Category payment mode  \\\n",
      "0   2024-07-07        investment  credit card   \n",
      "1   2024-07-04  sports & fitness  credit card   \n",
      "2   2024-07-28              fees          UPI   \n",
      "3   2024-07-16        stationary  credit card   \n",
      "4   2024-07-04         transport  credit card   \n",
      "..         ...               ...          ...   \n",
      "95  2024-07-02  sports & fitness  credit card   \n",
      "96  2024-07-16        investment         cash   \n",
      "97  2024-07-06      subscription          UPI   \n",
      "98  2024-07-12        investment  net banking   \n",
      "99  2024-07-28        stationary  net banking   \n",
      "\n",
      "                                          Description  Amount  Cashback  \n",
      "0                    Plan class late morning cell up.  380.88       9.7  \n",
      "1                          Around technology section.  250.01       4.3  \n",
      "2                               Town win himself get.  432.26       4.7  \n",
      "3                     Series religious sing film bed.  999.22      28.9  \n",
      "4             Minute eat life else much whole notice.  228.92       4.5  \n",
      "..                                                ...     ...       ...  \n",
      "95  Laugh family remain pattern evening agree well...  708.19       7.0  \n",
      "96        Purpose production method notice candidate.  698.24       5.8  \n",
      "97                                Another large five.  457.37      23.7  \n",
      "98            Bed national none support expect close.  195.18      10.8  \n",
      "99        Station marriage hair around computer test.  655.15      11.0  \n",
      "\n",
      "[100 rows x 6 columns]\n"
     ]
    }
   ],
   "source": [
    "def gen_exp_data(month , year,num=100):\n",
    "    data=[]\n",
    "    for i in range (num):\n",
    "        day=random.randint(1,28)\n",
    "        date=datetime(year,month,day).strftime('%Y-%m-%d')\n",
    "        expense={\n",
    "            \"Date\":date,\n",
    "            \"Category\":fake.random_element(elements=(\"investment\",\"stationary\",\"subscription\",\"sports & fitness\",\"fees\",\"transport\")),\n",
    "            \"payment mode\":fake.random_element(elements=(\"cash\",\"UPI\",\"wallet\",\"net banking\",\"credit card\",\"debit card\")),\n",
    "            \"Description\":fake.sentence(),\n",
    "            \"Amount\":round(random.uniform(100,1000),2),\n",
    "            \"Cashback\":round(random.uniform(0,30),1)\n",
    "        }\n",
    "        data.append(expense)\n",
    "    return pd.DataFrame(data)\n",
    "july24= gen_exp_data(7,2024,100)\n",
    "print(july24) "
   ]
  },
  {
   "cell_type": "code",
   "execution_count": 14,
   "metadata": {},
   "outputs": [
    {
     "name": "stdout",
     "output_type": "stream",
     "text": [
      "          Date      Category payment mode  \\\n",
      "0   2024-08-16     transport  credit card   \n",
      "1   2024-08-01    stationary  net banking   \n",
      "2   2024-08-23    stationary  credit card   \n",
      "3   2024-08-27     transport         cash   \n",
      "4   2024-08-04     transport         cash   \n",
      "..         ...           ...          ...   \n",
      "95  2024-08-23  subscription          UPI   \n",
      "96  2024-08-10  subscription       wallet   \n",
      "97  2024-08-24          fees         cash   \n",
      "98  2024-08-06          fees       wallet   \n",
      "99  2024-08-19     transport       wallet   \n",
      "\n",
      "                                          Description  Amount  Cashback  \n",
      "0                                 Where act movie it.  612.39      24.5  \n",
      "1                     Issue somebody move three talk.  590.06      19.2  \n",
      "2            Affect a power professional level board.  897.28       0.1  \n",
      "3                                 Claim learn school.  570.16      11.3  \n",
      "4   Say question place statement floor account nea...  330.43      13.4  \n",
      "..                                                ...     ...       ...  \n",
      "95        Three crime subject smile drug nothing not.  900.90      27.4  \n",
      "96                              Star find stage fact.  810.95      19.5  \n",
      "97  Least however east environment school determin...  351.27       0.2  \n",
      "98  Benefit significant particular line evening pe...  220.24      27.6  \n",
      "99  Role finally happen individual surface lay thr...  571.02      22.9  \n",
      "\n",
      "[100 rows x 6 columns]\n"
     ]
    }
   ],
   "source": [
    "def gen_exp_data(month , year,num=100):\n",
    "    data=[]\n",
    "    for i in range (num):\n",
    "        day=random.randint(1,28)\n",
    "        date=datetime(year,month,day).strftime('%Y-%m-%d')\n",
    "        expense={\n",
    "            \"Date\":date,\n",
    "            \"Category\":fake.random_element(elements=(\"investment\",\"stationary\",\"subscription\",\"sports & fitness\",\"fees\",\"transport\")),\n",
    "            \"payment mode\":fake.random_element(elements=(\"cash\",\"UPI\",\"wallet\",\"net banking\",\"credit card\",\"debit card\")),\n",
    "            \"Description\":fake.sentence(),\n",
    "            \"Amount\":round(random.uniform(100,1000),2),\n",
    "            \"Cashback\":round(random.uniform(0,30),1)\n",
    "        }\n",
    "        data.append(expense)\n",
    "    return pd.DataFrame(data)\n",
    "august24= gen_exp_data(8,2024,100)\n",
    "print(august24) "
   ]
  },
  {
   "cell_type": "code",
   "execution_count": 15,
   "metadata": {},
   "outputs": [
    {
     "name": "stdout",
     "output_type": "stream",
     "text": [
      "          Date          Category payment mode  \\\n",
      "0   2024-09-16  sports & fitness          UPI   \n",
      "1   2024-09-13              fees       wallet   \n",
      "2   2024-09-25              fees       wallet   \n",
      "3   2024-09-28        stationary   debit card   \n",
      "4   2024-09-20         transport          UPI   \n",
      "..         ...               ...          ...   \n",
      "95  2024-09-25         transport         cash   \n",
      "96  2024-09-03        stationary       wallet   \n",
      "97  2024-09-10        stationary   debit card   \n",
      "98  2024-09-06        stationary          UPI   \n",
      "99  2024-09-19              fees       wallet   \n",
      "\n",
      "                                          Description  Amount  Cashback  \n",
      "0   Body international none relationship little de...  851.51      26.1  \n",
      "1                       Authority site night on give.  251.70       4.9  \n",
      "2                  Heavy ready piece yes also finish.  226.13      22.8  \n",
      "3      Nature recognize change American market ready.  922.89      18.8  \n",
      "4                              Student listen parent.  992.46       3.0  \n",
      "..                                                ...     ...       ...  \n",
      "95            Series trouble state during later pull.  453.62       2.8  \n",
      "96            House audience play worry forget style.  384.10      15.5  \n",
      "97                           Push interest able view.  345.40       9.6  \n",
      "98                          Tree day big become film.  797.95       8.0  \n",
      "99                 Impact require reason school whom.  810.07       5.7  \n",
      "\n",
      "[100 rows x 6 columns]\n"
     ]
    }
   ],
   "source": [
    "def gen_exp_data(month , year,num=100):\n",
    "    data=[]\n",
    "    for i in range (num):\n",
    "        day=random.randint(1,28)\n",
    "        date=datetime(year,month,day).strftime('%Y-%m-%d')\n",
    "        expense={\n",
    "            \"Date\":date,\n",
    "            \"Category\":fake.random_element(elements=(\"investment\",\"stationary\",\"subscription\",\"sports & fitness\",\"fees\",\"transport\")),\n",
    "            \"payment mode\":fake.random_element(elements=(\"cash\",\"UPI\",\"wallet\",\"net banking\",\"credit card\",\"debit card\")),\n",
    "            \"Description\":fake.sentence(),\n",
    "            \"Amount\":round(random.uniform(100,1000),2),\n",
    "            \"Cashback\":round(random.uniform(0,30),1)\n",
    "        }\n",
    "        data.append(expense)\n",
    "    return pd.DataFrame(data)\n",
    "sept24= gen_exp_data(9,2024,100)\n",
    "print(sept24) "
   ]
  },
  {
   "cell_type": "code",
   "execution_count": 16,
   "metadata": {},
   "outputs": [
    {
     "name": "stdout",
     "output_type": "stream",
     "text": [
      "          Date          Category payment mode  \\\n",
      "0   2024-10-08        investment  net banking   \n",
      "1   2024-10-21      subscription       wallet   \n",
      "2   2024-10-19        investment       wallet   \n",
      "3   2024-10-22  sports & fitness  net banking   \n",
      "4   2024-10-11        investment  net banking   \n",
      "..         ...               ...          ...   \n",
      "95  2024-10-01        stationary          UPI   \n",
      "96  2024-10-28      subscription  credit card   \n",
      "97  2024-10-13              fees  credit card   \n",
      "98  2024-10-21        investment  net banking   \n",
      "99  2024-10-23         transport   debit card   \n",
      "\n",
      "                                          Description  Amount  Cashback  \n",
      "0                            Toward moment sense see.  731.50      10.3  \n",
      "1                               Wind top site enough.  292.53       3.7  \n",
      "2               Think Republican director lose black.  881.69       4.3  \n",
      "3                       Cold kitchen teacher so star.  588.60      20.2  \n",
      "4                       Recent PM happy right reveal.  154.94      14.0  \n",
      "..                                                ...     ...       ...  \n",
      "95         Wide power threat vote prove because rise.  316.34      21.6  \n",
      "96   Police remain rich war throw there write strong.  510.93      11.8  \n",
      "97             Standard become find part true during.  411.91       5.5  \n",
      "98        Bed sound add treatment other value threat.  587.72      12.8  \n",
      "99  Camera condition able who together every accor...  688.19      25.9  \n",
      "\n",
      "[100 rows x 6 columns]\n"
     ]
    }
   ],
   "source": [
    "def gen_exp_data(month , year,num=100):\n",
    "    data=[]\n",
    "    for i in range (num):\n",
    "        day=random.randint(1,28)\n",
    "        date=datetime(year,month,day).strftime('%Y-%m-%d')\n",
    "        expense={\n",
    "            \"Date\":date,\n",
    "            \"Category\":fake.random_element(elements=(\"investment\",\"stationary\",\"subscription\",\"sports & fitness\",\"fees\",\"transport\")),\n",
    "            \"payment mode\":fake.random_element(elements=(\"cash\",\"UPI\",\"wallet\",\"net banking\",\"credit card\",\"debit card\")),\n",
    "            \"Description\":fake.sentence(),\n",
    "            \"Amount\":round(random.uniform(100,1000),2),\n",
    "            \"Cashback\":round(random.uniform(0,30),1)\n",
    "        }\n",
    "        data.append(expense)\n",
    "    return pd.DataFrame(data)\n",
    "oct24= gen_exp_data(10,2024,100)\n",
    "print(oct24) "
   ]
  },
  {
   "cell_type": "code",
   "execution_count": 17,
   "metadata": {},
   "outputs": [
    {
     "name": "stdout",
     "output_type": "stream",
     "text": [
      "          Date          Category payment mode  \\\n",
      "0   2024-11-20        investment   debit card   \n",
      "1   2024-11-07         transport       wallet   \n",
      "2   2024-11-11              fees          UPI   \n",
      "3   2024-11-26        stationary   debit card   \n",
      "4   2024-11-17  sports & fitness          UPI   \n",
      "..         ...               ...          ...   \n",
      "95  2024-11-16              fees          UPI   \n",
      "96  2024-11-05        investment         cash   \n",
      "97  2024-11-15        stationary  credit card   \n",
      "98  2024-11-20         transport  credit card   \n",
      "99  2024-11-02  sports & fitness       wallet   \n",
      "\n",
      "                                          Description  Amount  Cashback  \n",
      "0           Employee pass him figure wind especially.  731.85       5.4  \n",
      "1    None plant lot rich century attention hit hotel.  664.60      13.0  \n",
      "2        Discussion treatment head significant smile.  903.52      29.5  \n",
      "3   Continue analysis majority company different k...  365.17       0.2  \n",
      "4                   Represent hospital future garden.  979.63      12.7  \n",
      "..                                                ...     ...       ...  \n",
      "95                               Rule easy order lot.  819.52      26.3  \n",
      "96                   Suggest week huge region indeed.  488.21      22.6  \n",
      "97                              Past impact resource.  542.55      25.4  \n",
      "98       Education five evidence away human six stop.  149.94       0.8  \n",
      "99               Similar turn coach health newspaper.  702.33      15.1  \n",
      "\n",
      "[100 rows x 6 columns]\n"
     ]
    }
   ],
   "source": [
    "def gen_exp_data(month , year,num=100):\n",
    "    data=[]\n",
    "    for i in range (num):\n",
    "        day=random.randint(1,28)\n",
    "        date=datetime(year,month,day).strftime('%Y-%m-%d')\n",
    "        expense={\n",
    "            \"Date\":date,\n",
    "            \"Category\":fake.random_element(elements=(\"investment\",\"stationary\",\"subscription\",\"sports & fitness\",\"fees\",\"transport\")),\n",
    "            \"payment mode\":fake.random_element(elements=(\"cash\",\"UPI\",\"wallet\",\"net banking\",\"credit card\",\"debit card\")),\n",
    "            \"Description\":fake.sentence(),\n",
    "            \"Amount\":round(random.uniform(100,1000),2),\n",
    "            \"Cashback\":round(random.uniform(0,30),1)\n",
    "        }\n",
    "        data.append(expense)\n",
    "    return pd.DataFrame(data)\n",
    "nov24= gen_exp_data(11,2024,100)\n",
    "print(nov24) "
   ]
  },
  {
   "cell_type": "code",
   "execution_count": 18,
   "metadata": {},
   "outputs": [
    {
     "name": "stdout",
     "output_type": "stream",
     "text": [
      "          Date          Category payment mode  \\\n",
      "0   2024-12-11      subscription          UPI   \n",
      "1   2024-12-07         transport          UPI   \n",
      "2   2024-12-13      subscription         cash   \n",
      "3   2024-12-23  sports & fitness          UPI   \n",
      "4   2024-12-28        stationary          UPI   \n",
      "..         ...               ...          ...   \n",
      "95  2024-12-19      subscription  net banking   \n",
      "96  2024-12-24  sports & fitness          UPI   \n",
      "97  2024-12-25         transport  net banking   \n",
      "98  2024-12-21         transport   debit card   \n",
      "99  2024-12-26        investment          UPI   \n",
      "\n",
      "                                          Description  Amount  Cashback  \n",
      "0   Site laugh who community management.\\nSide val...  294.36      27.8  \n",
      "1   Top firm visit choice between summer interest ...  172.92       4.9  \n",
      "2   Series teacher chance character.\\nBillion gene...  650.39      26.0  \n",
      "3   Control water become control operation seem la...  235.48       1.0  \n",
      "4   Type their clear out final management. Last cu...  650.48       9.4  \n",
      "..                                                ...     ...       ...  \n",
      "95  Citizen light partner cultural. Challenge bloo...  529.28       6.0  \n",
      "96  Red last involve fish accept everything loss. ...  871.21      26.0  \n",
      "97  Style get industry travel scene treatment skin...  432.43       4.6  \n",
      "98  Position our meet need current bank. Outside p...  892.17       3.0  \n",
      "99  Star though especially until. College difficul...  633.64      24.4  \n",
      "\n",
      "[100 rows x 6 columns]\n"
     ]
    }
   ],
   "source": [
    "def gen_exp_data(month , year,num=100):\n",
    "    data=[]\n",
    "    for i in range (num):\n",
    "        day=random.randint(1,28)\n",
    "        date=datetime(year,month,day).strftime('%Y-%m-%d')\n",
    "        expense={\n",
    "            \"Date\":date,\n",
    "            \"Category\":fake.random_element(elements=(\"investment\",\"stationary\",\"subscription\",\"sports & fitness\",\"fees\",\"transport\")),\n",
    "            \"payment mode\":fake.random_element(elements=(\"cash\",\"UPI\",\"wallet\",\"net banking\",\"credit card\",\"debit card\")),\n",
    "            \"Description\":fake.text(), \n",
    "            \"Amount\":round(random.uniform(100,1000),2),\n",
    "            \"Cashback\":round(random.uniform(0,30),1) #if payment mode==\"credit card\" else 0.0\n",
    "        }\n",
    "        data.append(expense)\n",
    "    return pd.DataFrame(data)\n",
    "dec24= gen_exp_data(12,2024,100)\n",
    "print(dec24) "
   ]
  },
  {
   "cell_type": "code",
   "execution_count": 19,
   "metadata": {},
   "outputs": [
    {
     "data": {
      "text/html": [
       "<div>\n",
       "<style scoped>\n",
       "    .dataframe tbody tr th:only-of-type {\n",
       "        vertical-align: middle;\n",
       "    }\n",
       "\n",
       "    .dataframe tbody tr th {\n",
       "        vertical-align: top;\n",
       "    }\n",
       "\n",
       "    .dataframe thead th {\n",
       "        text-align: right;\n",
       "    }\n",
       "</style>\n",
       "<table border=\"1\" class=\"dataframe\">\n",
       "  <thead>\n",
       "    <tr style=\"text-align: right;\">\n",
       "      <th></th>\n",
       "      <th>Date</th>\n",
       "      <th>Category</th>\n",
       "      <th>payment mode</th>\n",
       "      <th>Description</th>\n",
       "      <th>Amount</th>\n",
       "      <th>Cashback</th>\n",
       "    </tr>\n",
       "  </thead>\n",
       "  <tbody>\n",
       "    <tr>\n",
       "      <th>0</th>\n",
       "      <td>2024-01-04</td>\n",
       "      <td>sports &amp; fitness</td>\n",
       "      <td>wallet</td>\n",
       "      <td>Election Mr radio enter middle event place.</td>\n",
       "      <td>187.01</td>\n",
       "      <td>17.4</td>\n",
       "    </tr>\n",
       "    <tr>\n",
       "      <th>1</th>\n",
       "      <td>2024-01-21</td>\n",
       "      <td>fees</td>\n",
       "      <td>debit card</td>\n",
       "      <td>We eat down fight.</td>\n",
       "      <td>565.60</td>\n",
       "      <td>3.7</td>\n",
       "    </tr>\n",
       "    <tr>\n",
       "      <th>2</th>\n",
       "      <td>2024-01-08</td>\n",
       "      <td>stationary</td>\n",
       "      <td>credit card</td>\n",
       "      <td>Door ok pass professional foot resource buildi...</td>\n",
       "      <td>704.25</td>\n",
       "      <td>13.7</td>\n",
       "    </tr>\n",
       "    <tr>\n",
       "      <th>3</th>\n",
       "      <td>2024-01-25</td>\n",
       "      <td>transport</td>\n",
       "      <td>UPI</td>\n",
       "      <td>Half part coach save.</td>\n",
       "      <td>386.31</td>\n",
       "      <td>10.2</td>\n",
       "    </tr>\n",
       "    <tr>\n",
       "      <th>4</th>\n",
       "      <td>2024-01-21</td>\n",
       "      <td>fees</td>\n",
       "      <td>credit card</td>\n",
       "      <td>Half all prepare.</td>\n",
       "      <td>962.85</td>\n",
       "      <td>25.2</td>\n",
       "    </tr>\n",
       "    <tr>\n",
       "      <th>...</th>\n",
       "      <td>...</td>\n",
       "      <td>...</td>\n",
       "      <td>...</td>\n",
       "      <td>...</td>\n",
       "      <td>...</td>\n",
       "      <td>...</td>\n",
       "    </tr>\n",
       "    <tr>\n",
       "      <th>95</th>\n",
       "      <td>2024-12-19</td>\n",
       "      <td>subscription</td>\n",
       "      <td>net banking</td>\n",
       "      <td>Citizen light partner cultural. Challenge bloo...</td>\n",
       "      <td>529.28</td>\n",
       "      <td>6.0</td>\n",
       "    </tr>\n",
       "    <tr>\n",
       "      <th>96</th>\n",
       "      <td>2024-12-24</td>\n",
       "      <td>sports &amp; fitness</td>\n",
       "      <td>UPI</td>\n",
       "      <td>Red last involve fish accept everything loss. ...</td>\n",
       "      <td>871.21</td>\n",
       "      <td>26.0</td>\n",
       "    </tr>\n",
       "    <tr>\n",
       "      <th>97</th>\n",
       "      <td>2024-12-25</td>\n",
       "      <td>transport</td>\n",
       "      <td>net banking</td>\n",
       "      <td>Style get industry travel scene treatment skin...</td>\n",
       "      <td>432.43</td>\n",
       "      <td>4.6</td>\n",
       "    </tr>\n",
       "    <tr>\n",
       "      <th>98</th>\n",
       "      <td>2024-12-21</td>\n",
       "      <td>transport</td>\n",
       "      <td>debit card</td>\n",
       "      <td>Position our meet need current bank. Outside p...</td>\n",
       "      <td>892.17</td>\n",
       "      <td>3.0</td>\n",
       "    </tr>\n",
       "    <tr>\n",
       "      <th>99</th>\n",
       "      <td>2024-12-26</td>\n",
       "      <td>investment</td>\n",
       "      <td>UPI</td>\n",
       "      <td>Star though especially until. College difficul...</td>\n",
       "      <td>633.64</td>\n",
       "      <td>24.4</td>\n",
       "    </tr>\n",
       "  </tbody>\n",
       "</table>\n",
       "<p>1200 rows × 6 columns</p>\n",
       "</div>"
      ],
      "text/plain": [
       "          Date          Category payment mode  \\\n",
       "0   2024-01-04  sports & fitness       wallet   \n",
       "1   2024-01-21              fees   debit card   \n",
       "2   2024-01-08        stationary  credit card   \n",
       "3   2024-01-25         transport          UPI   \n",
       "4   2024-01-21              fees  credit card   \n",
       "..         ...               ...          ...   \n",
       "95  2024-12-19      subscription  net banking   \n",
       "96  2024-12-24  sports & fitness          UPI   \n",
       "97  2024-12-25         transport  net banking   \n",
       "98  2024-12-21         transport   debit card   \n",
       "99  2024-12-26        investment          UPI   \n",
       "\n",
       "                                          Description  Amount  Cashback  \n",
       "0         Election Mr radio enter middle event place.  187.01      17.4  \n",
       "1                                  We eat down fight.  565.60       3.7  \n",
       "2   Door ok pass professional foot resource buildi...  704.25      13.7  \n",
       "3                               Half part coach save.  386.31      10.2  \n",
       "4                                   Half all prepare.  962.85      25.2  \n",
       "..                                                ...     ...       ...  \n",
       "95  Citizen light partner cultural. Challenge bloo...  529.28       6.0  \n",
       "96  Red last involve fish accept everything loss. ...  871.21      26.0  \n",
       "97  Style get industry travel scene treatment skin...  432.43       4.6  \n",
       "98  Position our meet need current bank. Outside p...  892.17       3.0  \n",
       "99  Star though especially until. College difficul...  633.64      24.4  \n",
       "\n",
       "[1200 rows x 6 columns]"
      ]
     },
     "execution_count": 19,
     "metadata": {},
     "output_type": "execute_result"
    }
   ],
   "source": [
    "df=pd.concat([jan24,feb24,march24,april24,may24,june24,july24,august24,sept24,oct24,nov24,dec24],axis=0)\n",
    "df"
   ]
  },
  {
   "cell_type": "code",
   "execution_count": 20,
   "metadata": {},
   "outputs": [
    {
     "name": "stdout",
     "output_type": "stream",
     "text": [
      "Defaulting to user installation because normal site-packages is not writeable\n",
      "Requirement already satisfied: pandas in c:\\users\\lenovo\\appdata\\local\\packages\\pythonsoftwarefoundation.python.3.13_qbz5n2kfra8p0\\localcache\\local-packages\\python313\\site-packages (2.2.3)\n",
      "Requirement already satisfied: openpyxl in c:\\users\\lenovo\\appdata\\local\\packages\\pythonsoftwarefoundation.python.3.13_qbz5n2kfra8p0\\localcache\\local-packages\\python313\\site-packages (3.1.5)\n",
      "Requirement already satisfied: xlsxwriter in c:\\users\\lenovo\\appdata\\local\\packages\\pythonsoftwarefoundation.python.3.13_qbz5n2kfra8p0\\localcache\\local-packages\\python313\\site-packages (3.2.2)\n",
      "Requirement already satisfied: numpy>=1.26.0 in c:\\users\\lenovo\\appdata\\local\\packages\\pythonsoftwarefoundation.python.3.13_qbz5n2kfra8p0\\localcache\\local-packages\\python313\\site-packages (from pandas) (2.2.4)\n",
      "Requirement already satisfied: python-dateutil>=2.8.2 in c:\\users\\lenovo\\appdata\\local\\packages\\pythonsoftwarefoundation.python.3.13_qbz5n2kfra8p0\\localcache\\local-packages\\python313\\site-packages (from pandas) (2.9.0.post0)\n",
      "Requirement already satisfied: pytz>=2020.1 in c:\\users\\lenovo\\appdata\\local\\packages\\pythonsoftwarefoundation.python.3.13_qbz5n2kfra8p0\\localcache\\local-packages\\python313\\site-packages (from pandas) (2025.2)\n",
      "Requirement already satisfied: tzdata>=2022.7 in c:\\users\\lenovo\\appdata\\local\\packages\\pythonsoftwarefoundation.python.3.13_qbz5n2kfra8p0\\localcache\\local-packages\\python313\\site-packages (from pandas) (2025.2)\n",
      "Requirement already satisfied: et-xmlfile in c:\\users\\lenovo\\appdata\\local\\packages\\pythonsoftwarefoundation.python.3.13_qbz5n2kfra8p0\\localcache\\local-packages\\python313\\site-packages (from openpyxl) (2.0.0)\n",
      "Requirement already satisfied: six>=1.5 in c:\\users\\lenovo\\appdata\\local\\packages\\pythonsoftwarefoundation.python.3.13_qbz5n2kfra8p0\\localcache\\local-packages\\python313\\site-packages (from python-dateutil>=2.8.2->pandas) (1.17.0)\n",
      "Note: you may need to restart the kernel to use updated packages.\n"
     ]
    },
    {
     "name": "stderr",
     "output_type": "stream",
     "text": [
      "\n",
      "[notice] A new release of pip is available: 24.3.1 -> 25.0.1\n",
      "[notice] To update, run: C:\\Users\\Lenovo\\AppData\\Local\\Microsoft\\WindowsApps\\PythonSoftwareFoundation.Python.3.13_qbz5n2kfra8p0\\python.exe -m pip install --upgrade pip\n"
     ]
    }
   ],
   "source": [
    "pip install pandas openpyxl xlsxwriter"
   ]
  },
  {
   "cell_type": "code",
   "execution_count": 21,
   "metadata": {},
   "outputs": [],
   "source": [
    "#save the generated dataframe to an excel file named\"expenses.xlsx\"\n",
    "df.to_excel(\"expenses.xlsx\",engine='openpyxl',index=False)"
   ]
  },
  {
   "cell_type": "code",
   "execution_count": 22,
   "metadata": {},
   "outputs": [
    {
     "name": "stdout",
     "output_type": "stream",
     "text": [
      "datasaved as csv.\n"
     ]
    }
   ],
   "source": [
    "df.to_csv(\"expenses.csv\",index=False)\n",
    "print('datasaved as csv.')"
   ]
  },
  {
   "cell_type": "code",
   "execution_count": 23,
   "metadata": {},
   "outputs": [
    {
     "data": {
      "text/html": [
       "<div>\n",
       "<style scoped>\n",
       "    .dataframe tbody tr th:only-of-type {\n",
       "        vertical-align: middle;\n",
       "    }\n",
       "\n",
       "    .dataframe tbody tr th {\n",
       "        vertical-align: top;\n",
       "    }\n",
       "\n",
       "    .dataframe thead th {\n",
       "        text-align: right;\n",
       "    }\n",
       "</style>\n",
       "<table border=\"1\" class=\"dataframe\">\n",
       "  <thead>\n",
       "    <tr style=\"text-align: right;\">\n",
       "      <th></th>\n",
       "      <th>Date</th>\n",
       "      <th>Category</th>\n",
       "      <th>payment mode</th>\n",
       "      <th>Description</th>\n",
       "      <th>Amount</th>\n",
       "      <th>Cashback</th>\n",
       "    </tr>\n",
       "  </thead>\n",
       "  <tbody>\n",
       "    <tr>\n",
       "      <th>0</th>\n",
       "      <td>2024-01-04</td>\n",
       "      <td>sports &amp; fitness</td>\n",
       "      <td>wallet</td>\n",
       "      <td>Election Mr radio enter middle event place.</td>\n",
       "      <td>187.01</td>\n",
       "      <td>17.4</td>\n",
       "    </tr>\n",
       "    <tr>\n",
       "      <th>1</th>\n",
       "      <td>2024-01-21</td>\n",
       "      <td>fees</td>\n",
       "      <td>debit card</td>\n",
       "      <td>We eat down fight.</td>\n",
       "      <td>565.60</td>\n",
       "      <td>3.7</td>\n",
       "    </tr>\n",
       "    <tr>\n",
       "      <th>2</th>\n",
       "      <td>2024-01-08</td>\n",
       "      <td>stationary</td>\n",
       "      <td>credit card</td>\n",
       "      <td>Door ok pass professional foot resource buildi...</td>\n",
       "      <td>704.25</td>\n",
       "      <td>13.7</td>\n",
       "    </tr>\n",
       "    <tr>\n",
       "      <th>3</th>\n",
       "      <td>2024-01-25</td>\n",
       "      <td>transport</td>\n",
       "      <td>UPI</td>\n",
       "      <td>Half part coach save.</td>\n",
       "      <td>386.31</td>\n",
       "      <td>10.2</td>\n",
       "    </tr>\n",
       "    <tr>\n",
       "      <th>4</th>\n",
       "      <td>2024-01-21</td>\n",
       "      <td>fees</td>\n",
       "      <td>credit card</td>\n",
       "      <td>Half all prepare.</td>\n",
       "      <td>962.85</td>\n",
       "      <td>25.2</td>\n",
       "    </tr>\n",
       "    <tr>\n",
       "      <th>...</th>\n",
       "      <td>...</td>\n",
       "      <td>...</td>\n",
       "      <td>...</td>\n",
       "      <td>...</td>\n",
       "      <td>...</td>\n",
       "      <td>...</td>\n",
       "    </tr>\n",
       "    <tr>\n",
       "      <th>1195</th>\n",
       "      <td>2024-12-19</td>\n",
       "      <td>subscription</td>\n",
       "      <td>net banking</td>\n",
       "      <td>Citizen light partner cultural. Challenge bloo...</td>\n",
       "      <td>529.28</td>\n",
       "      <td>6.0</td>\n",
       "    </tr>\n",
       "    <tr>\n",
       "      <th>1196</th>\n",
       "      <td>2024-12-24</td>\n",
       "      <td>sports &amp; fitness</td>\n",
       "      <td>UPI</td>\n",
       "      <td>Red last involve fish accept everything loss. ...</td>\n",
       "      <td>871.21</td>\n",
       "      <td>26.0</td>\n",
       "    </tr>\n",
       "    <tr>\n",
       "      <th>1197</th>\n",
       "      <td>2024-12-25</td>\n",
       "      <td>transport</td>\n",
       "      <td>net banking</td>\n",
       "      <td>Style get industry travel scene treatment skin...</td>\n",
       "      <td>432.43</td>\n",
       "      <td>4.6</td>\n",
       "    </tr>\n",
       "    <tr>\n",
       "      <th>1198</th>\n",
       "      <td>2024-12-21</td>\n",
       "      <td>transport</td>\n",
       "      <td>debit card</td>\n",
       "      <td>Position our meet need current bank. Outside p...</td>\n",
       "      <td>892.17</td>\n",
       "      <td>3.0</td>\n",
       "    </tr>\n",
       "    <tr>\n",
       "      <th>1199</th>\n",
       "      <td>2024-12-26</td>\n",
       "      <td>investment</td>\n",
       "      <td>UPI</td>\n",
       "      <td>Star though especially until. College difficul...</td>\n",
       "      <td>633.64</td>\n",
       "      <td>24.4</td>\n",
       "    </tr>\n",
       "  </tbody>\n",
       "</table>\n",
       "<p>1200 rows × 6 columns</p>\n",
       "</div>"
      ],
      "text/plain": [
       "            Date          Category payment mode  \\\n",
       "0     2024-01-04  sports & fitness       wallet   \n",
       "1     2024-01-21              fees   debit card   \n",
       "2     2024-01-08        stationary  credit card   \n",
       "3     2024-01-25         transport          UPI   \n",
       "4     2024-01-21              fees  credit card   \n",
       "...          ...               ...          ...   \n",
       "1195  2024-12-19      subscription  net banking   \n",
       "1196  2024-12-24  sports & fitness          UPI   \n",
       "1197  2024-12-25         transport  net banking   \n",
       "1198  2024-12-21         transport   debit card   \n",
       "1199  2024-12-26        investment          UPI   \n",
       "\n",
       "                                            Description  Amount  Cashback  \n",
       "0           Election Mr radio enter middle event place.  187.01      17.4  \n",
       "1                                    We eat down fight.  565.60       3.7  \n",
       "2     Door ok pass professional foot resource buildi...  704.25      13.7  \n",
       "3                                 Half part coach save.  386.31      10.2  \n",
       "4                                     Half all prepare.  962.85      25.2  \n",
       "...                                                 ...     ...       ...  \n",
       "1195  Citizen light partner cultural. Challenge bloo...  529.28       6.0  \n",
       "1196  Red last involve fish accept everything loss. ...  871.21      26.0  \n",
       "1197  Style get industry travel scene treatment skin...  432.43       4.6  \n",
       "1198  Position our meet need current bank. Outside p...  892.17       3.0  \n",
       "1199  Star though especially until. College difficul...  633.64      24.4  \n",
       "\n",
       "[1200 rows x 6 columns]"
      ]
     },
     "execution_count": 23,
     "metadata": {},
     "output_type": "execute_result"
    }
   ],
   "source": [
    "expense=pd.read_excel(\"expenses.xlsx\")\n",
    "expense"
   ]
  },
  {
   "cell_type": "code",
   "execution_count": 24,
   "metadata": {},
   "outputs": [],
   "source": [
    "subscription_detail=[\" jio hotstar subsciption\",\"youtube premium subscription\",\"netflix subscription\"]\n",
    "investment_detail=[\"investment in gold\",\"investment in share market\",\"investment in property\"]\n",
    "stationary_detail=[\"pen and pencil\",\"books and novels\"]\n",
    "sports_fitness_detail=[\"badmintion\",\"cricket\",\"swimming\",\"gym\"]\n",
    "fees_detail=[\"school fees\",\"library fees\"]\n",
    "transport_detail=[\"school bus\",\"library e rickshaw\",\"auto for badminton ground\",\"bike for going stadium practice\",\"bike for gym\"]"
   ]
  },
  {
   "cell_type": "code",
   "execution_count": 25,
   "metadata": {},
   "outputs": [
    {
     "name": "stdout",
     "output_type": "stream",
     "text": [
      "            Date          Category payment mode                 Description  \\\n",
      "0     2024-01-04  sports & fitness       wallet                    swimming   \n",
      "1     2024-01-21              fees   debit card                library fees   \n",
      "2     2024-01-08        stationary  credit card              pen and pencil   \n",
      "3     2024-01-25         transport          UPI   auto for badminton ground   \n",
      "4     2024-01-21              fees  credit card                library fees   \n",
      "...          ...               ...          ...                         ...   \n",
      "1195  2024-12-19      subscription  net banking        netflix subscription   \n",
      "1196  2024-12-24  sports & fitness          UPI                    swimming   \n",
      "1197  2024-12-25         transport  net banking   auto for badminton ground   \n",
      "1198  2024-12-21         transport   debit card   auto for badminton ground   \n",
      "1199  2024-12-26        investment          UPI  investment in share market   \n",
      "\n",
      "      Amount  Cashback  \n",
      "0     187.01      17.4  \n",
      "1     565.60       3.7  \n",
      "2     704.25      13.7  \n",
      "3     386.31      10.2  \n",
      "4     962.85      25.2  \n",
      "...      ...       ...  \n",
      "1195  529.28       6.0  \n",
      "1196  871.21      26.0  \n",
      "1197  432.43       4.6  \n",
      "1198  892.17       3.0  \n",
      "1199  633.64      24.4  \n",
      "\n",
      "[1200 rows x 6 columns]\n"
     ]
    }
   ],
   "source": [
    "expense.loc[expense[\"Category\"]==\"investment\",\"Description\"]=random.choice(investment_detail)\n",
    "expense.loc[expense[\"Category\"]==\"stationary\",\"Description\"]=random.choice(stationary_detail)\n",
    "expense.loc[expense[\"Category\"]==\"subscription\",\"Description\"]=random.choice(subscription_detail)\n",
    "expense.loc[expense[\"Category\"]==\"sports & fitness\",\"Description\"]=random.choice(sports_fitness_detail)\n",
    "expense.loc[expense[\"Category\"]==\"fees\",\"Description\"]=random.choice(fees_detail)\n",
    "expense.loc[expense[\"Category\"]==\"transport\",\"Description\"]=random.choice(transport_detail)\n",
    "print(expense)"
   ]
  },
  {
   "cell_type": "code",
   "execution_count": 26,
   "metadata": {},
   "outputs": [
    {
     "data": {
      "text/html": [
       "<div>\n",
       "<style scoped>\n",
       "    .dataframe tbody tr th:only-of-type {\n",
       "        vertical-align: middle;\n",
       "    }\n",
       "\n",
       "    .dataframe tbody tr th {\n",
       "        vertical-align: top;\n",
       "    }\n",
       "\n",
       "    .dataframe thead th {\n",
       "        text-align: right;\n",
       "    }\n",
       "</style>\n",
       "<table border=\"1\" class=\"dataframe\">\n",
       "  <thead>\n",
       "    <tr style=\"text-align: right;\">\n",
       "      <th></th>\n",
       "      <th>Date</th>\n",
       "      <th>Category</th>\n",
       "      <th>payment mode</th>\n",
       "      <th>Description</th>\n",
       "      <th>Amount</th>\n",
       "      <th>Cashback</th>\n",
       "    </tr>\n",
       "  </thead>\n",
       "  <tbody>\n",
       "    <tr>\n",
       "      <th>0</th>\n",
       "      <td>2024-01-04</td>\n",
       "      <td>sports &amp; fitness</td>\n",
       "      <td>wallet</td>\n",
       "      <td>swimming</td>\n",
       "      <td>187.01</td>\n",
       "      <td>17.4</td>\n",
       "    </tr>\n",
       "    <tr>\n",
       "      <th>1</th>\n",
       "      <td>2024-01-21</td>\n",
       "      <td>fees</td>\n",
       "      <td>debit card</td>\n",
       "      <td>library fees</td>\n",
       "      <td>565.60</td>\n",
       "      <td>3.7</td>\n",
       "    </tr>\n",
       "    <tr>\n",
       "      <th>2</th>\n",
       "      <td>2024-01-08</td>\n",
       "      <td>stationary</td>\n",
       "      <td>credit card</td>\n",
       "      <td>pen and pencil</td>\n",
       "      <td>704.25</td>\n",
       "      <td>13.7</td>\n",
       "    </tr>\n",
       "    <tr>\n",
       "      <th>3</th>\n",
       "      <td>2024-01-25</td>\n",
       "      <td>transport</td>\n",
       "      <td>UPI</td>\n",
       "      <td>auto for badminton ground</td>\n",
       "      <td>386.31</td>\n",
       "      <td>10.2</td>\n",
       "    </tr>\n",
       "    <tr>\n",
       "      <th>4</th>\n",
       "      <td>2024-01-21</td>\n",
       "      <td>fees</td>\n",
       "      <td>credit card</td>\n",
       "      <td>library fees</td>\n",
       "      <td>962.85</td>\n",
       "      <td>25.2</td>\n",
       "    </tr>\n",
       "    <tr>\n",
       "      <th>...</th>\n",
       "      <td>...</td>\n",
       "      <td>...</td>\n",
       "      <td>...</td>\n",
       "      <td>...</td>\n",
       "      <td>...</td>\n",
       "      <td>...</td>\n",
       "    </tr>\n",
       "    <tr>\n",
       "      <th>1195</th>\n",
       "      <td>2024-12-19</td>\n",
       "      <td>subscription</td>\n",
       "      <td>net banking</td>\n",
       "      <td>netflix subscription</td>\n",
       "      <td>529.28</td>\n",
       "      <td>6.0</td>\n",
       "    </tr>\n",
       "    <tr>\n",
       "      <th>1196</th>\n",
       "      <td>2024-12-24</td>\n",
       "      <td>sports &amp; fitness</td>\n",
       "      <td>UPI</td>\n",
       "      <td>swimming</td>\n",
       "      <td>871.21</td>\n",
       "      <td>26.0</td>\n",
       "    </tr>\n",
       "    <tr>\n",
       "      <th>1197</th>\n",
       "      <td>2024-12-25</td>\n",
       "      <td>transport</td>\n",
       "      <td>net banking</td>\n",
       "      <td>auto for badminton ground</td>\n",
       "      <td>432.43</td>\n",
       "      <td>4.6</td>\n",
       "    </tr>\n",
       "    <tr>\n",
       "      <th>1198</th>\n",
       "      <td>2024-12-21</td>\n",
       "      <td>transport</td>\n",
       "      <td>debit card</td>\n",
       "      <td>auto for badminton ground</td>\n",
       "      <td>892.17</td>\n",
       "      <td>3.0</td>\n",
       "    </tr>\n",
       "    <tr>\n",
       "      <th>1199</th>\n",
       "      <td>2024-12-26</td>\n",
       "      <td>investment</td>\n",
       "      <td>UPI</td>\n",
       "      <td>investment in share market</td>\n",
       "      <td>633.64</td>\n",
       "      <td>24.4</td>\n",
       "    </tr>\n",
       "  </tbody>\n",
       "</table>\n",
       "<p>1200 rows × 6 columns</p>\n",
       "</div>"
      ],
      "text/plain": [
       "            Date          Category payment mode                 Description  \\\n",
       "0     2024-01-04  sports & fitness       wallet                    swimming   \n",
       "1     2024-01-21              fees   debit card                library fees   \n",
       "2     2024-01-08        stationary  credit card              pen and pencil   \n",
       "3     2024-01-25         transport          UPI   auto for badminton ground   \n",
       "4     2024-01-21              fees  credit card                library fees   \n",
       "...          ...               ...          ...                         ...   \n",
       "1195  2024-12-19      subscription  net banking        netflix subscription   \n",
       "1196  2024-12-24  sports & fitness          UPI                    swimming   \n",
       "1197  2024-12-25         transport  net banking   auto for badminton ground   \n",
       "1198  2024-12-21         transport   debit card   auto for badminton ground   \n",
       "1199  2024-12-26        investment          UPI  investment in share market   \n",
       "\n",
       "      Amount  Cashback  \n",
       "0     187.01      17.4  \n",
       "1     565.60       3.7  \n",
       "2     704.25      13.7  \n",
       "3     386.31      10.2  \n",
       "4     962.85      25.2  \n",
       "...      ...       ...  \n",
       "1195  529.28       6.0  \n",
       "1196  871.21      26.0  \n",
       "1197  432.43       4.6  \n",
       "1198  892.17       3.0  \n",
       "1199  633.64      24.4  \n",
       "\n",
       "[1200 rows x 6 columns]"
      ]
     },
     "execution_count": 26,
     "metadata": {},
     "output_type": "execute_result"
    }
   ],
   "source": [
    "expense"
   ]
  },
  {
   "cell_type": "code",
   "execution_count": 27,
   "metadata": {},
   "outputs": [],
   "source": [
    "expense.rename(columns={\"payment mode\":\"payment_mode\"},inplace=True)"
   ]
  },
  {
   "cell_type": "code",
   "execution_count": 28,
   "metadata": {},
   "outputs": [
    {
     "name": "stdout",
     "output_type": "stream",
     "text": [
      "            Date          Category payment_mode                 Description  \\\n",
      "0     2024-01-04  sports & fitness       wallet                    swimming   \n",
      "1     2024-01-21              fees   debit card                library fees   \n",
      "2     2024-01-08        stationary  credit card              pen and pencil   \n",
      "3     2024-01-25         transport          UPI   auto for badminton ground   \n",
      "4     2024-01-21              fees  credit card                library fees   \n",
      "...          ...               ...          ...                         ...   \n",
      "1195  2024-12-19      subscription  net banking        netflix subscription   \n",
      "1196  2024-12-24  sports & fitness          UPI                    swimming   \n",
      "1197  2024-12-25         transport  net banking   auto for badminton ground   \n",
      "1198  2024-12-21         transport   debit card   auto for badminton ground   \n",
      "1199  2024-12-26        investment          UPI  investment in share market   \n",
      "\n",
      "      Amount  Cashback  \n",
      "0     187.01       0.0  \n",
      "1     565.60       0.0  \n",
      "2     704.25      13.7  \n",
      "3     386.31       0.0  \n",
      "4     962.85      25.2  \n",
      "...      ...       ...  \n",
      "1195  529.28       0.0  \n",
      "1196  871.21       0.0  \n",
      "1197  432.43       0.0  \n",
      "1198  892.17       0.0  \n",
      "1199  633.64       0.0  \n",
      "\n",
      "[1200 rows x 6 columns]\n"
     ]
    }
   ],
   "source": [
    "##show cahsback where payment mode is credit card otherwise zerro \n",
    "expense[\"Cashback\"]=expense[\"Cashback\"].where(expense[\"payment_mode\"]==\"credit card\",0)\n",
    "print(expense)"
   ]
  },
  {
   "cell_type": "code",
   "execution_count": 29,
   "metadata": {},
   "outputs": [
    {
     "name": "stdout",
     "output_type": "stream",
     "text": [
      "<class 'pandas.core.frame.DataFrame'>\n",
      "RangeIndex: 1200 entries, 0 to 1199\n",
      "Data columns (total 6 columns):\n",
      " #   Column        Non-Null Count  Dtype  \n",
      "---  ------        --------------  -----  \n",
      " 0   Date          1200 non-null   object \n",
      " 1   Category      1200 non-null   object \n",
      " 2   payment_mode  1200 non-null   object \n",
      " 3   Description   1200 non-null   object \n",
      " 4   Amount        1200 non-null   float64\n",
      " 5   Cashback      1200 non-null   float64\n",
      "dtypes: float64(2), object(4)\n",
      "memory usage: 56.4+ KB\n"
     ]
    }
   ],
   "source": [
    "expense.info()"
   ]
  },
  {
   "cell_type": "code",
   "execution_count": 30,
   "metadata": {},
   "outputs": [],
   "source": [
    "import pandas as pd"
   ]
  },
  {
   "cell_type": "code",
   "execution_count": 31,
   "metadata": {},
   "outputs": [],
   "source": [
    "##date shows a objec type we have to convert it into datetime \n",
    "expense[\"Date\"]=pd.to_datetime(expense[\"Date\"])"
   ]
  },
  {
   "cell_type": "code",
   "execution_count": 32,
   "metadata": {},
   "outputs": [
    {
     "name": "stdout",
     "output_type": "stream",
     "text": [
      "<class 'pandas.core.frame.DataFrame'>\n",
      "RangeIndex: 1200 entries, 0 to 1199\n",
      "Data columns (total 6 columns):\n",
      " #   Column        Non-Null Count  Dtype         \n",
      "---  ------        --------------  -----         \n",
      " 0   Date          1200 non-null   datetime64[ns]\n",
      " 1   Category      1200 non-null   object        \n",
      " 2   payment_mode  1200 non-null   object        \n",
      " 3   Description   1200 non-null   object        \n",
      " 4   Amount        1200 non-null   float64       \n",
      " 5   Cashback      1200 non-null   float64       \n",
      "dtypes: datetime64[ns](1), float64(2), object(3)\n",
      "memory usage: 56.4+ KB\n"
     ]
    }
   ],
   "source": [
    "#again checking the info of date\n",
    "expense.info()"
   ]
  },
  {
   "cell_type": "code",
   "execution_count": 33,
   "metadata": {},
   "outputs": [
    {
     "data": {
      "text/html": [
       "<div>\n",
       "<style scoped>\n",
       "    .dataframe tbody tr th:only-of-type {\n",
       "        vertical-align: middle;\n",
       "    }\n",
       "\n",
       "    .dataframe tbody tr th {\n",
       "        vertical-align: top;\n",
       "    }\n",
       "\n",
       "    .dataframe thead th {\n",
       "        text-align: right;\n",
       "    }\n",
       "</style>\n",
       "<table border=\"1\" class=\"dataframe\">\n",
       "  <thead>\n",
       "    <tr style=\"text-align: right;\">\n",
       "      <th></th>\n",
       "      <th>Date</th>\n",
       "      <th>Category</th>\n",
       "      <th>payment_mode</th>\n",
       "      <th>Description</th>\n",
       "      <th>Amount</th>\n",
       "      <th>Cashback</th>\n",
       "    </tr>\n",
       "  </thead>\n",
       "  <tbody>\n",
       "    <tr>\n",
       "      <th>0</th>\n",
       "      <td>2024-01-04</td>\n",
       "      <td>sports &amp; fitness</td>\n",
       "      <td>wallet</td>\n",
       "      <td>swimming</td>\n",
       "      <td>187.01</td>\n",
       "      <td>0.0</td>\n",
       "    </tr>\n",
       "    <tr>\n",
       "      <th>1</th>\n",
       "      <td>2024-01-21</td>\n",
       "      <td>fees</td>\n",
       "      <td>debit card</td>\n",
       "      <td>library fees</td>\n",
       "      <td>565.60</td>\n",
       "      <td>0.0</td>\n",
       "    </tr>\n",
       "    <tr>\n",
       "      <th>2</th>\n",
       "      <td>2024-01-08</td>\n",
       "      <td>stationary</td>\n",
       "      <td>credit card</td>\n",
       "      <td>pen and pencil</td>\n",
       "      <td>704.25</td>\n",
       "      <td>13.7</td>\n",
       "    </tr>\n",
       "    <tr>\n",
       "      <th>3</th>\n",
       "      <td>2024-01-25</td>\n",
       "      <td>transport</td>\n",
       "      <td>UPI</td>\n",
       "      <td>auto for badminton ground</td>\n",
       "      <td>386.31</td>\n",
       "      <td>0.0</td>\n",
       "    </tr>\n",
       "    <tr>\n",
       "      <th>4</th>\n",
       "      <td>2024-01-21</td>\n",
       "      <td>fees</td>\n",
       "      <td>credit card</td>\n",
       "      <td>library fees</td>\n",
       "      <td>962.85</td>\n",
       "      <td>25.2</td>\n",
       "    </tr>\n",
       "    <tr>\n",
       "      <th>...</th>\n",
       "      <td>...</td>\n",
       "      <td>...</td>\n",
       "      <td>...</td>\n",
       "      <td>...</td>\n",
       "      <td>...</td>\n",
       "      <td>...</td>\n",
       "    </tr>\n",
       "    <tr>\n",
       "      <th>1195</th>\n",
       "      <td>2024-12-19</td>\n",
       "      <td>subscription</td>\n",
       "      <td>net banking</td>\n",
       "      <td>netflix subscription</td>\n",
       "      <td>529.28</td>\n",
       "      <td>0.0</td>\n",
       "    </tr>\n",
       "    <tr>\n",
       "      <th>1196</th>\n",
       "      <td>2024-12-24</td>\n",
       "      <td>sports &amp; fitness</td>\n",
       "      <td>UPI</td>\n",
       "      <td>swimming</td>\n",
       "      <td>871.21</td>\n",
       "      <td>0.0</td>\n",
       "    </tr>\n",
       "    <tr>\n",
       "      <th>1197</th>\n",
       "      <td>2024-12-25</td>\n",
       "      <td>transport</td>\n",
       "      <td>net banking</td>\n",
       "      <td>auto for badminton ground</td>\n",
       "      <td>432.43</td>\n",
       "      <td>0.0</td>\n",
       "    </tr>\n",
       "    <tr>\n",
       "      <th>1198</th>\n",
       "      <td>2024-12-21</td>\n",
       "      <td>transport</td>\n",
       "      <td>debit card</td>\n",
       "      <td>auto for badminton ground</td>\n",
       "      <td>892.17</td>\n",
       "      <td>0.0</td>\n",
       "    </tr>\n",
       "    <tr>\n",
       "      <th>1199</th>\n",
       "      <td>2024-12-26</td>\n",
       "      <td>investment</td>\n",
       "      <td>UPI</td>\n",
       "      <td>investment in share market</td>\n",
       "      <td>633.64</td>\n",
       "      <td>0.0</td>\n",
       "    </tr>\n",
       "  </tbody>\n",
       "</table>\n",
       "<p>1200 rows × 6 columns</p>\n",
       "</div>"
      ],
      "text/plain": [
       "           Date          Category payment_mode                 Description  \\\n",
       "0    2024-01-04  sports & fitness       wallet                    swimming   \n",
       "1    2024-01-21              fees   debit card                library fees   \n",
       "2    2024-01-08        stationary  credit card              pen and pencil   \n",
       "3    2024-01-25         transport          UPI   auto for badminton ground   \n",
       "4    2024-01-21              fees  credit card                library fees   \n",
       "...         ...               ...          ...                         ...   \n",
       "1195 2024-12-19      subscription  net banking        netflix subscription   \n",
       "1196 2024-12-24  sports & fitness          UPI                    swimming   \n",
       "1197 2024-12-25         transport  net banking   auto for badminton ground   \n",
       "1198 2024-12-21         transport   debit card   auto for badminton ground   \n",
       "1199 2024-12-26        investment          UPI  investment in share market   \n",
       "\n",
       "      Amount  Cashback  \n",
       "0     187.01       0.0  \n",
       "1     565.60       0.0  \n",
       "2     704.25      13.7  \n",
       "3     386.31       0.0  \n",
       "4     962.85      25.2  \n",
       "...      ...       ...  \n",
       "1195  529.28       0.0  \n",
       "1196  871.21       0.0  \n",
       "1197  432.43       0.0  \n",
       "1198  892.17       0.0  \n",
       "1199  633.64       0.0  \n",
       "\n",
       "[1200 rows x 6 columns]"
      ]
     },
     "execution_count": 33,
     "metadata": {},
     "output_type": "execute_result"
    }
   ],
   "source": [
    "expense"
   ]
  },
  {
   "cell_type": "code",
   "execution_count": 34,
   "metadata": {},
   "outputs": [
    {
     "name": "stdout",
     "output_type": "stream",
     "text": [
      "Defaulting to user installation because normal site-packages is not writeable\n",
      "Requirement already satisfied: mysql.connector in c:\\users\\lenovo\\appdata\\local\\packages\\pythonsoftwarefoundation.python.3.13_qbz5n2kfra8p0\\localcache\\local-packages\\python313\\site-packages (2.2.9)\n",
      "Note: you may need to restart the kernel to use updated packages.\n"
     ]
    },
    {
     "name": "stderr",
     "output_type": "stream",
     "text": [
      "\n",
      "[notice] A new release of pip is available: 24.3.1 -> 25.0.1\n",
      "[notice] To update, run: C:\\Users\\Lenovo\\AppData\\Local\\Microsoft\\WindowsApps\\PythonSoftwareFoundation.Python.3.13_qbz5n2kfra8p0\\python.exe -m pip install --upgrade pip\n"
     ]
    }
   ],
   "source": [
    "pip install mysql.connector\n"
   ]
  },
  {
   "cell_type": "code",
   "execution_count": 35,
   "metadata": {},
   "outputs": [],
   "source": [
    "import mysql.connector\n"
   ]
  },
  {
   "cell_type": "code",
   "execution_count": 36,
   "metadata": {},
   "outputs": [],
   "source": [
    "# connection=mysql.connector.connect(\n",
    "#     host=\"localhost\",\n",
    "#     user=\"root\",\n",
    "#     password=\"Anuradha@12345\"\n",
    "#     )  \n",
    "# print(connection)"
   ]
  },
  {
   "cell_type": "code",
   "execution_count": 37,
   "metadata": {},
   "outputs": [
    {
     "name": "stdout",
     "output_type": "stream",
     "text": [
      "Defaulting to user installation because normal site-packages is not writeable\n",
      "Requirement already satisfied: PyMySQL in c:\\users\\lenovo\\appdata\\local\\packages\\pythonsoftwarefoundation.python.3.13_qbz5n2kfra8p0\\localcache\\local-packages\\python313\\site-packages (1.1.1)\n",
      "Note: you may need to restart the kernel to use updated packages.\n"
     ]
    },
    {
     "name": "stderr",
     "output_type": "stream",
     "text": [
      "\n",
      "[notice] A new release of pip is available: 24.3.1 -> 25.0.1\n",
      "[notice] To update, run: C:\\Users\\Lenovo\\AppData\\Local\\Microsoft\\WindowsApps\\PythonSoftwareFoundation.Python.3.13_qbz5n2kfra8p0\\python.exe -m pip install --upgrade pip\n"
     ]
    }
   ],
   "source": [
    "pip install PyMySQL"
   ]
  },
  {
   "cell_type": "code",
   "execution_count": 38,
   "metadata": {},
   "outputs": [],
   "source": [
    "import pymysql"
   ]
  },
  {
   "cell_type": "code",
   "execution_count": 39,
   "metadata": {},
   "outputs": [
    {
     "name": "stdout",
     "output_type": "stream",
     "text": [
      "<pymysql.connections.Connection object at 0x000001F80E7957F0>\n"
     ]
    }
   ],
   "source": [
    "connection=pymysql.connect(\n",
    "    host=\"localhost\",\n",
    "    user=\"root\",\n",
    "    password=\"Anuradha@12345\",\n",
    "    autocommit=True\n",
    "    )  \n",
    "print(connection)\n",
    "    "
   ]
  },
  {
   "cell_type": "code",
   "execution_count": 40,
   "metadata": {},
   "outputs": [],
   "source": [
    "cursor=connection.cursor()"
   ]
  },
  {
   "cell_type": "code",
   "execution_count": 41,
   "metadata": {},
   "outputs": [
    {
     "name": "stdout",
     "output_type": "stream",
     "text": [
      "database created successfully\n"
     ]
    }
   ],
   "source": [
    "cursor.execute(\"CREATE DATABASE sqlpython\")\n",
    "connection.commit()\n",
    "print(\"database created successfully\")"
   ]
  },
  {
   "cell_type": "code",
   "execution_count": 42,
   "metadata": {},
   "outputs": [
    {
     "name": "stdout",
     "output_type": "stream",
     "text": [
      "('information_schema',)\n",
      "('mysql',)\n",
      "('performance_schema',)\n",
      "('sakila',)\n",
      "('sqlpython',)\n",
      "('sqlpython3',)\n",
      "('sys',)\n",
      "('vaccination_project3',)\n",
      "('world',)\n"
     ]
    }
   ],
   "source": [
    "cursor.execute(\"SHOW DATABASES\")\n",
    "for x in cursor:\n",
    "   print(x)"
   ]
  },
  {
   "cell_type": "markdown",
   "metadata": {},
   "source": []
  },
  {
   "cell_type": "code",
   "execution_count": 43,
   "metadata": {},
   "outputs": [
    {
     "data": {
      "text/plain": [
       "0"
      ]
     },
     "execution_count": 43,
     "metadata": {},
     "output_type": "execute_result"
    }
   ],
   "source": [
    "cursor.execute(\"USE sqlpython3\")"
   ]
  },
  {
   "cell_type": "code",
   "execution_count": 44,
   "metadata": {},
   "outputs": [],
   "source": [
    "\n",
    "create_table_query=\"\"\" \n",
    "CREATE TABLE IF NOT EXISTS EXPENSE(\n",
    "    ID INT AUTO_INCREMENT PRIMARY KEY,\n",
    "    Date Date,\n",
    "    Category varchar(300),\n",
    "    payment_mode varchar(300),\n",
    "    Description text,\n",
    "    Amount DECIMAL(10,2),\n",
    "    Cashback DECIMAL(10,2)\n",
    "    );\n",
    "\"\"\"\n",
    "cursor.execute(create_table_query)\n",
    "connection.commit()"
   ]
  },
  {
   "cell_type": "code",
   "execution_count": 45,
   "metadata": {},
   "outputs": [],
   "source": [
    "# define the insert query\n",
    "# insert_query=\"\"\"\n",
    "# INSERT INTO EXPENSE( ID,Date,Category,payment mode,Description,Amount,Cashback) VALUES (%s,%s,%s,%s,%s,%s,%s)\n",
    "# \"\"\""
   ]
  },
  {
   "cell_type": "code",
   "execution_count": 46,
   "metadata": {},
   "outputs": [],
   "source": [
    "# ##iterate over the dataframe and insert each row \n",
    "# for index,row in expense.iterrows():\n",
    "#     cursor.execute(insert_query,(row[\"ID\"],row[\"Date\"],row[\"Category\"],row[\"payment mode\"],row[\"Description\"]))"
   ]
  },
  {
   "cell_type": "code",
   "execution_count": 47,
   "metadata": {},
   "outputs": [],
   "source": [
    "for index,row in expense.iterrows():\n",
    "      cursor.execute(\"\"\"\n",
    "         INSERT INTO expense(Date,Category,payment_mode,Description,Amount,Cashback)\n",
    "         VALUES(%s,%s,%s,%s,%s,%s);\n",
    "      \"\"\",(row[\"Date\"],row[\"Category\"],row[\"payment_mode\"],row[\"Description\"],row[\"Amount\"],row[\"Cashback\"]))"
   ]
  },
  {
   "cell_type": "code",
   "execution_count": 48,
   "metadata": {},
   "outputs": [],
   "source": [
    "##commit the transaction\n",
    "connection.commit()"
   ]
  }
 ],
 "metadata": {
  "kernelspec": {
   "display_name": "Python 3",
   "language": "python",
   "name": "python3"
  },
  "language_info": {
   "codemirror_mode": {
    "name": "ipython",
    "version": 3
   },
   "file_extension": ".py",
   "mimetype": "text/x-python",
   "name": "python",
   "nbconvert_exporter": "python",
   "pygments_lexer": "ipython3",
   "version": "3.13.2"
  }
 },
 "nbformat": 4,
 "nbformat_minor": 2
}
